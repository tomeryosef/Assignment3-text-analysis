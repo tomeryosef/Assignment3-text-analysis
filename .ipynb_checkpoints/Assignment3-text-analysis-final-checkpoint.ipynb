{
 "cells": [
  {
   "cell_type": "markdown",
   "metadata": {},
   "source": [
    "# Assignment 3 - Text Analysis\n",
    "An explanation this assignment could be found in the .pdf explanation document"
   ]
  },
  {
   "cell_type": "markdown",
   "metadata": {},
   "source": [
    "\n",
    "## Materials to review for this assignment\n",
    "<h4>From Moodle:</h4> \n",
    "<h5><u>Review the notebooks regarding the following python topics</u>:</h5>\n",
    "<div class=\"alert alert-info\">\n",
    "&#x2714; <b>Working with strings</b> (tutorial notebook)<br/>\n",
    "&#x2714; <b>Text Analysis</b> (tutorial notebook)<br/>\n",
    "&#x2714; <b>Hebrew text analysis tools (tokenizer, wordnet)</b> (moodle example)<br/>\n",
    "&#x2714; <b>(brief review) All previous notebooks</b><br/>\n",
    "</div> \n",
    "<h5><u>Review the presentations regarding the following topics</u>:</h5>\n",
    "<div class=\"alert alert-info\">\n",
    "&#x2714; <b>Text Analysis</b> (lecture presentation)<br/>\n",
    "&#x2714; <b>(brief review) All other presentations</b><br/>\n",
    "</div>"
   ]
  },
  {
   "cell_type": "markdown",
   "metadata": {},
   "source": [
    "## Personal Details:"
   ]
  },
  {
   "cell_type": "code",
   "execution_count": 2,
   "metadata": {},
   "outputs": [
    {
     "data": {
      "text/plain": [
       "'206558595'"
      ]
     },
     "execution_count": 2,
     "metadata": {},
     "output_type": "execute_result"
    }
   ],
   "source": [
    "# Details Student 1:\n",
    "\"Ofek Ben Hamo\"\n",
    "\"207222126\"\n",
    "\n",
    "# Details Student 2:\n",
    "\"Tomer mordechi hi Yosef\"\n",
    "\"206558595\""
   ]
  },
  {
   "cell_type": "markdown",
   "metadata": {},
   "source": [
    "## Preceding Step - import modules (packages)\n",
    "This step is necessary in order to use external modules (packages). <br/>"
   ]
  },
  {
   "cell_type": "code",
   "execution_count": 3,
   "metadata": {},
   "outputs": [],
   "source": [
    "# --------------------------------------\n",
    "import pandas as pd\n",
    "import numpy as np\n",
    "# --------------------------------------\n",
    "\n",
    "\n",
    "# --------------------------------------\n",
    "# ------------- visualizations:\n",
    "import seaborn as sns\n",
    "import matplotlib.pyplot as plt\n",
    "from matplotlib.colors import ListedColormap\n",
    "# --------------------------------------\n",
    "\n",
    "\n",
    "# ---------------------------------------\n",
    "import sklearn\n",
    "from sklearn import preprocessing, metrics, pipeline, model_selection, feature_extraction \n",
    "from sklearn import naive_bayes, linear_model, svm, neural_network, neighbors, tree\n",
    "from sklearn import decomposition, cluster\n",
    "\n",
    "from sklearn.model_selection import train_test_split, cross_val_score, GridSearchCV \n",
    "from sklearn.pipeline import Pipeline\n",
    "from sklearn.metrics import accuracy_score, confusion_matrix\n",
    "from sklearn.metrics import precision_score, recall_score, f1_score\n",
    "from sklearn.metrics import mean_squared_error, r2_score, silhouette_score\n",
    "from sklearn.preprocessing import MinMaxScaler, StandardScaler, LabelEncoder\n",
    "\n",
    "from sklearn.svm import LinearSVC\n",
    "from sklearn.neural_network import MLPClassifier\n",
    "from sklearn.linear_model import Perceptron, SGDClassifier\n",
    "from sklearn.decomposition import PCA\n",
    "from sklearn.cluster import KMeans\n",
    "from sklearn.naive_bayes import MultinomialNB, GaussianNB\n",
    "from sklearn.neighbors import KNeighborsClassifier\n",
    "from sklearn.tree import DecisionTreeClassifier\n",
    "# ---------------------------------------\n",
    "\n",
    "\n",
    "# ----------------- output and visualizations: \n",
    "import warnings\n",
    "from sklearn.exceptions import ConvergenceWarning\n",
    "warnings.simplefilter(\"ignore\")\n",
    "warnings.simplefilter(action='ignore', category=FutureWarning)\n",
    "warnings.simplefilter(\"ignore\", category=ConvergenceWarning)\n",
    "# show several prints in one cell. This will allow us to condence every trick in one cell.\n",
    "from IPython.core.interactiveshell import InteractiveShell\n",
    "InteractiveShell.ast_node_interactivity = \"all\"\n",
    "%matplotlib inline\n",
    "pd.pandas.set_option('display.max_columns', None)\n",
    "pd.set_option('display.float_format', lambda x: '%.3f' % x)\n",
    "# ---------------------------------------"
   ]
  },
  {
   "cell_type": "markdown",
   "metadata": {},
   "source": [
    "### Text analysis and String manipulation imports:"
   ]
  },
  {
   "cell_type": "code",
   "execution_count": 4,
   "metadata": {},
   "outputs": [],
   "source": [
    "# --------------------------------------\n",
    "# --------- Text analysis and Hebrew text analysis imports:\n",
    "# vectorizers:\n",
    "from sklearn.feature_extraction import text\n",
    "from sklearn.feature_extraction.text import CountVectorizer, TfidfVectorizer\n",
    "\n",
    "# regular expressions:\n",
    "import re\n",
    "# --------------------------------------"
   ]
  },
  {
   "cell_type": "markdown",
   "metadata": {},
   "source": [
    "### (optional) Hebrew text analysis - WordNet (for Hebrew)\n",
    "Note: the WordNet is not a must"
   ]
  },
  {
   "cell_type": "markdown",
   "metadata": {},
   "source": [
    "#### (optional) Only if you didn't install Wordnet (for Hebrew) use:"
   ]
  },
  {
   "cell_type": "code",
   "execution_count": 5,
   "metadata": {},
   "outputs": [],
   "source": [
    "# word net installation:\n",
    "\n",
    "# unmark if you want to use and need to install\n",
    "#!pip install nltk\n",
    "#!pip install wn\n",
    "#!python -m wn download omw-he:1.4"
   ]
  },
  {
   "cell_type": "code",
   "execution_count": 6,
   "metadata": {},
   "outputs": [],
   "source": [
    "# word net import:\n",
    "\n",
    "# unmark if you want to use:\n",
    "import wn"
   ]
  },
  {
   "cell_type": "markdown",
   "metadata": {},
   "source": [
    "### (optional) Hebrew text analysis - hebrew_tokenizer (Tokenizer for Hebrew)\n",
    "Note: the hebrew_tokenizer is not a must"
   ]
  },
  {
   "cell_type": "markdown",
   "metadata": {},
   "source": [
    "#### (optional) Only if you didn't install hebrew_tokenizer use:"
   ]
  },
  {
   "cell_type": "code",
   "execution_count": 7,
   "metadata": {},
   "outputs": [],
   "source": [
    "# Hebrew tokenizer installation:\n",
    "\n",
    "# unmark if you want to use and need to install:\n",
    "#!pip install hebrew_tokenizer"
   ]
  },
  {
   "cell_type": "code",
   "execution_count": 8,
   "metadata": {},
   "outputs": [
    {
     "name": "stdout",
     "output_type": "stream",
     "text": [
      "C:\\Users\\97252\\OneDrive - Holon Institute of Technology\\שולחן העבודה\\machin_learning\\assignment3-text_analysis (2)\\assignment3-text_analysis\n"
     ]
    }
   ],
   "source": [
    "# Hebrew tokenizer import:\n",
    "\n",
    "# unmark if you want to use:\n",
    "import hebrew_tokenizer as ht"
   ]
  },
  {
   "cell_type": "markdown",
   "metadata": {},
   "source": [
    "### Reading input files\n",
    "Reading input files for train annotated corpus (raw text data) corpus and for the test corpus"
   ]
  },
  {
   "cell_type": "code",
   "execution_count": 9,
   "metadata": {},
   "outputs": [],
   "source": [
    "train_filename = 'annotated_corpus_for_train.csv'\n",
    "test_filename  = 'corpus_for_test.csv'\n",
    "df_train = pd.read_csv(train_filename, index_col=None, encoding='utf-8')\n",
    "df_test  = pd.read_csv(test_filename, index_col=None, encoding='utf-8')"
   ]
  },
  {
   "cell_type": "code",
   "execution_count": 10,
   "metadata": {},
   "outputs": [
    {
     "data": {
      "text/html": [
       "<div>\n",
       "<style scoped>\n",
       "    .dataframe tbody tr th:only-of-type {\n",
       "        vertical-align: middle;\n",
       "    }\n",
       "\n",
       "    .dataframe tbody tr th {\n",
       "        vertical-align: top;\n",
       "    }\n",
       "\n",
       "    .dataframe thead th {\n",
       "        text-align: right;\n",
       "    }\n",
       "</style>\n",
       "<table border=\"1\" class=\"dataframe\">\n",
       "  <thead>\n",
       "    <tr style=\"text-align: right;\">\n",
       "      <th></th>\n",
       "      <th>story</th>\n",
       "      <th>gender</th>\n",
       "    </tr>\n",
       "  </thead>\n",
       "  <tbody>\n",
       "    <tr>\n",
       "      <th>0</th>\n",
       "      <td>כשחבר הזמין אותי לחול, לא באמת חשבתי שזה יקרה,...</td>\n",
       "      <td>m</td>\n",
       "    </tr>\n",
       "    <tr>\n",
       "      <th>1</th>\n",
       "      <td>לפני שהתגייסתי לצבא עשיתי כל מני מיונים ליחידו...</td>\n",
       "      <td>m</td>\n",
       "    </tr>\n",
       "    <tr>\n",
       "      <th>2</th>\n",
       "      <td>מאז שהתחילו הלימודים חלומו של כל סטודנט זה הפנ...</td>\n",
       "      <td>f</td>\n",
       "    </tr>\n",
       "    <tr>\n",
       "      <th>3</th>\n",
       "      <td>כשהייתי ילד, מטוסים היה הדבר שהכי ריתק אותי. ב...</td>\n",
       "      <td>m</td>\n",
       "    </tr>\n",
       "    <tr>\n",
       "      <th>4</th>\n",
       "      <td>‏הייתי מדריכה בכפר נוער ומתאם הכפר היינו צריכי...</td>\n",
       "      <td>f</td>\n",
       "    </tr>\n",
       "    <tr>\n",
       "      <th>5</th>\n",
       "      <td>לפני כ3 חודשים טסתי לרומא למשך שבוע. טסתי במטו...</td>\n",
       "      <td>f</td>\n",
       "    </tr>\n",
       "    <tr>\n",
       "      <th>6</th>\n",
       "      <td>אני כבר שנתיים נשוי והשנה אני ואישתי סוף סוף י...</td>\n",
       "      <td>m</td>\n",
       "    </tr>\n",
       "    <tr>\n",
       "      <th>7</th>\n",
       "      <td>השנה התחלנו שיפוץ בדירה שלנו בתל אביב. הדירה ה...</td>\n",
       "      <td>f</td>\n",
       "    </tr>\n",
       "  </tbody>\n",
       "</table>\n",
       "</div>"
      ],
      "text/plain": [
       "                                               story gender\n",
       "0  כשחבר הזמין אותי לחול, לא באמת חשבתי שזה יקרה,...      m\n",
       "1  לפני שהתגייסתי לצבא עשיתי כל מני מיונים ליחידו...      m\n",
       "2  מאז שהתחילו הלימודים חלומו של כל סטודנט זה הפנ...      f\n",
       "3  כשהייתי ילד, מטוסים היה הדבר שהכי ריתק אותי. ב...      m\n",
       "4  ‏הייתי מדריכה בכפר נוער ומתאם הכפר היינו צריכי...      f\n",
       "5  לפני כ3 חודשים טסתי לרומא למשך שבוע. טסתי במטו...      f\n",
       "6  אני כבר שנתיים נשוי והשנה אני ואישתי סוף סוף י...      m\n",
       "7  השנה התחלנו שיפוץ בדירה שלנו בתל אביב. הדירה ה...      f"
      ]
     },
     "execution_count": 10,
     "metadata": {},
     "output_type": "execute_result"
    },
    {
     "data": {
      "text/plain": [
       "(753, 2)"
      ]
     },
     "execution_count": 10,
     "metadata": {},
     "output_type": "execute_result"
    }
   ],
   "source": [
    "df_train.head(8)\n",
    "df_train.shape"
   ]
  },
  {
   "cell_type": "code",
   "execution_count": 11,
   "metadata": {},
   "outputs": [
    {
     "data": {
      "text/html": [
       "<div>\n",
       "<style scoped>\n",
       "    .dataframe tbody tr th:only-of-type {\n",
       "        vertical-align: middle;\n",
       "    }\n",
       "\n",
       "    .dataframe tbody tr th {\n",
       "        vertical-align: top;\n",
       "    }\n",
       "\n",
       "    .dataframe thead th {\n",
       "        text-align: right;\n",
       "    }\n",
       "</style>\n",
       "<table border=\"1\" class=\"dataframe\">\n",
       "  <thead>\n",
       "    <tr style=\"text-align: right;\">\n",
       "      <th></th>\n",
       "      <th>test_example_id</th>\n",
       "      <th>story</th>\n",
       "    </tr>\n",
       "  </thead>\n",
       "  <tbody>\n",
       "    <tr>\n",
       "      <th>0</th>\n",
       "      <td>0</td>\n",
       "      <td>כל קיץ אני והמשפחה נוסעים לארצות הברית לוס אנג...</td>\n",
       "    </tr>\n",
       "    <tr>\n",
       "      <th>1</th>\n",
       "      <td>1</td>\n",
       "      <td>הגעתי לשירות המדינה אחרי שנתיים כפעיל בתנועת \"...</td>\n",
       "    </tr>\n",
       "    <tr>\n",
       "      <th>2</th>\n",
       "      <td>2</td>\n",
       "      <td>אחת האהבות הגדולות שלי אלו הכלבים שלי ושל אישת...</td>\n",
       "    </tr>\n",
       "  </tbody>\n",
       "</table>\n",
       "</div>"
      ],
      "text/plain": [
       "   test_example_id                                              story\n",
       "0                0  כל קיץ אני והמשפחה נוסעים לארצות הברית לוס אנג...\n",
       "1                1  הגעתי לשירות המדינה אחרי שנתיים כפעיל בתנועת \"...\n",
       "2                2  אחת האהבות הגדולות שלי אלו הכלבים שלי ושל אישת..."
      ]
     },
     "execution_count": 11,
     "metadata": {},
     "output_type": "execute_result"
    },
    {
     "data": {
      "text/plain": [
       "(323, 2)"
      ]
     },
     "execution_count": 11,
     "metadata": {},
     "output_type": "execute_result"
    }
   ],
   "source": [
    "df_test.head(3)\n",
    "df_test.shape"
   ]
  },
  {
   "cell_type": "markdown",
   "metadata": {},
   "source": [
    "### Your implementation:\n",
    "Write your code solution in the following code-cells"
   ]
  },
  {
   "cell_type": "code",
   "execution_count": 12,
   "metadata": {},
   "outputs": [
    {
     "data": {
      "text/html": [
       "<div>\n",
       "<style scoped>\n",
       "    .dataframe tbody tr th:only-of-type {\n",
       "        vertical-align: middle;\n",
       "    }\n",
       "\n",
       "    .dataframe tbody tr th {\n",
       "        vertical-align: top;\n",
       "    }\n",
       "\n",
       "    .dataframe thead th {\n",
       "        text-align: right;\n",
       "    }\n",
       "</style>\n",
       "<table border=\"1\" class=\"dataframe\">\n",
       "  <thead>\n",
       "    <tr style=\"text-align: right;\">\n",
       "      <th></th>\n",
       "      <th>0</th>\n",
       "      <th>gender</th>\n",
       "    </tr>\n",
       "  </thead>\n",
       "  <tbody>\n",
       "    <tr>\n",
       "      <th>0</th>\n",
       "      <td>0</td>\n",
       "      <td>m</td>\n",
       "    </tr>\n",
       "    <tr>\n",
       "      <th>1</th>\n",
       "      <td>0</td>\n",
       "      <td>m</td>\n",
       "    </tr>\n",
       "    <tr>\n",
       "      <th>2</th>\n",
       "      <td>1</td>\n",
       "      <td>f</td>\n",
       "    </tr>\n",
       "    <tr>\n",
       "      <th>3</th>\n",
       "      <td>0</td>\n",
       "      <td>m</td>\n",
       "    </tr>\n",
       "    <tr>\n",
       "      <th>4</th>\n",
       "      <td>1</td>\n",
       "      <td>f</td>\n",
       "    </tr>\n",
       "    <tr>\n",
       "      <th>...</th>\n",
       "      <td>...</td>\n",
       "      <td>...</td>\n",
       "    </tr>\n",
       "    <tr>\n",
       "      <th>748</th>\n",
       "      <td>0</td>\n",
       "      <td>m</td>\n",
       "    </tr>\n",
       "    <tr>\n",
       "      <th>749</th>\n",
       "      <td>0</td>\n",
       "      <td>m</td>\n",
       "    </tr>\n",
       "    <tr>\n",
       "      <th>750</th>\n",
       "      <td>0</td>\n",
       "      <td>m</td>\n",
       "    </tr>\n",
       "    <tr>\n",
       "      <th>751</th>\n",
       "      <td>1</td>\n",
       "      <td>f</td>\n",
       "    </tr>\n",
       "    <tr>\n",
       "      <th>752</th>\n",
       "      <td>0</td>\n",
       "      <td>m</td>\n",
       "    </tr>\n",
       "  </tbody>\n",
       "</table>\n",
       "<p>753 rows × 2 columns</p>\n",
       "</div>"
      ],
      "text/plain": [
       "     0 gender\n",
       "0    0      m\n",
       "1    0      m\n",
       "2    1      f\n",
       "3    0      m\n",
       "4    1      f\n",
       "..  ..    ...\n",
       "748  0      m\n",
       "749  0      m\n",
       "750  0      m\n",
       "751  1      f\n",
       "752  0      m\n",
       "\n",
       "[753 rows x 2 columns]"
      ]
     },
     "execution_count": 12,
     "metadata": {},
     "output_type": "execute_result"
    }
   ],
   "source": [
    "y = pd.Series(df_train.gender.factorize()[0])\n",
    "df_y = pd.concat([y, df_train.gender], axis=1)\n",
    "df_y"
   ]
  },
  {
   "cell_type": "markdown",
   "metadata": {},
   "source": [
    "### Pre-proccessing the Dataframe "
   ]
  },
  {
   "cell_type": "markdown",
   "metadata": {},
   "source": [
    "#### Function That we built to support our Model"
   ]
  },
  {
   "cell_type": "code",
   "execution_count": 13,
   "metadata": {},
   "outputs": [],
   "source": [
    "df_train['bin_gender'] = df_train['gender'].apply(lambda x: 0 if x == 'f' else 1)\n"
   ]
  },
  {
   "cell_type": "markdown",
   "metadata": {},
   "source": [
    "\n",
    "\n",
    "#### Calculate_avarage_f1 :\n",
    "\n",
    "This function calculates the average macro F1 score for a given classifier using cross-validation, both with grid search and k-fold methods, based on the provided training and testing data, and returns the average F1 score along with the predicted labels."
   ]
  },
  {
   "cell_type": "code",
   "execution_count": 14,
   "metadata": {},
   "outputs": [],
   "source": [
    "from sklearn.metrics import make_scorer\n",
    "def calculate_average_f1(X_train, X_test, Y_train, Y_test, classifier,final_hebrew_trigrams):\n",
    "    avg_f1_scores = []\n",
    "\n",
    "    for _ in range(10):\n",
    "        pipeline = Pipeline([\n",
    "            ('classifier', classifier)\n",
    "        ])\n",
    "\n",
    "        parameters = {}\n",
    "\n",
    "        grid_search = GridSearchCV(pipeline, parameters, cv=5, scoring='f1_macro')\n",
    "        grid_search.fit(X_train, Y_train)\n",
    "\n",
    "        predicted_labels = grid_search.predict(X_test)\n",
    "\n",
    "        # Perform k-fold cross-validation and compute F1 scores directly\n",
    "        cross_val_f1_scores = cross_val_score(classifier, X_train, Y_train, scoring=make_scorer(f1_score, average='macro'), cv=10)\n",
    "        # Calculate the average F1 score over all folds\n",
    "        average_f1 = cross_val_f1_scores.mean()\n",
    "\n",
    "        avg_f1_scores.append(average_f1)\n",
    "\n",
    "    average_avg_f1 = sum(avg_f1_scores) / len(avg_f1_scores)\n",
    "    return average_avg_f1,predicted_labels\n"
   ]
  },
  {
   "cell_type": "markdown",
   "metadata": {},
   "source": [
    "### Text Feature Extraction for Gender Classification\n",
    "\n",
    "The provided code processes Hebrew text data from a DataFrame and prepares it for gender classification using different n-gram levels (unigrams, bigrams, and trigrams). It generates corresponding TF-IDF features, splits the data into training and testing sets, and is designed for subsequent gender classification tasks."
   ]
  },
  {
   "cell_type": "markdown",
   "metadata": {},
   "source": [
    "#### Trigrams"
   ]
  },
  {
   "cell_type": "code",
   "execution_count": 15,
   "metadata": {},
   "outputs": [],
   "source": [
    "final_hebrew_trigrams = []\n",
    "for story in df_train.story:\n",
    "    tokens_generator = ht.tokenize(story)\n",
    "    hebrew_tokens = [token[1] for token in tokens_generator if token[0] == 'HEBREW']\n",
    "    hebrew_trigrams = zip(hebrew_tokens, hebrew_tokens[1:], hebrew_tokens[2:])\n",
    "    joined_trigrams = [' '.join(trigram) for trigram in hebrew_trigrams]\n",
    "    final_hebrew_trigrams.append(' '.join(joined_trigrams))\n",
    "\n",
    "tfidf_vectorizer = TfidfVectorizer(max_features=1000)\n",
    "X_tfidf = tfidf_vectorizer.fit_transform(final_hebrew_trigrams).toarray()\n",
    "Y = df_train['bin_gender']\n",
    "\n",
    "X_tri_train, X1_tri_test, Y1_tri_train, Y1_tri_test = train_test_split(X_tfidf, Y, test_size=0.2, random_state=42)\n"
   ]
  },
  {
   "cell_type": "markdown",
   "metadata": {},
   "source": [
    "#### Unigrams"
   ]
  },
  {
   "cell_type": "code",
   "execution_count": 16,
   "metadata": {},
   "outputs": [],
   "source": [
    "final_hebrew_unigrams = []\n",
    "for story in df_train.story:\n",
    "    tokens_generator = ht.tokenize(story)\n",
    "    hebrew_tokens = [token[1] for token in tokens_generator if token[0] == 'HEBREW']\n",
    "    unigrams = hebrew_tokens\n",
    "    joined_unigrams = ' '.join(unigrams)\n",
    "    final_hebrew_unigrams.append(joined_unigrams)\n",
    "tfidf_vectorizer = TfidfVectorizer(max_features=1000)\n",
    "X_tfidf = tfidf_vectorizer.fit_transform(final_hebrew_unigrams).toarray()\n",
    "Y = df_train['bin_gender']\n",
    "X_uni_train, X1_uni_test, Y1_uni_train, Y1_uni_test = train_test_split(X_tfidf, Y, test_size=0.2, random_state=42)"
   ]
  },
  {
   "cell_type": "markdown",
   "metadata": {},
   "source": [
    "#### Bigrams"
   ]
  },
  {
   "cell_type": "code",
   "execution_count": 17,
   "metadata": {},
   "outputs": [],
   "source": [
    "final_hebrew_bigrams = []\n",
    "for story in df_train.story:\n",
    "    tokens_generator = ht.tokenize(story)\n",
    "    hebrew_tokens = [token[1] for token in tokens_generator if token[0] == 'HEBREW']\n",
    "    bigrams = zip(hebrew_tokens, hebrew_tokens[1:])\n",
    "    joined_bigrams = [' '.join(bigram) for bigram in bigrams]\n",
    "    joined_bigram_text = ' '.join(joined_bigrams)\n",
    "    final_hebrew_bigrams.append(joined_bigram_text)\n",
    "tfidf_vectorizer = TfidfVectorizer(max_features=1000)\n",
    "X_tfidf = tfidf_vectorizer.fit_transform(final_hebrew_bigrams).toarray()\n",
    "Y = df_train['bin_gender']\n",
    "X_bi_train, X_bi_test, Y_bi_train, Y_bi_test = train_test_split(X_tfidf, Y, test_size=0.2, random_state=42)"
   ]
  },
  {
   "cell_type": "markdown",
   "metadata": {},
   "source": [
    "### Gender Classification Using Various Classifiers and N-gram Levels\n",
    "\n",
    "This code evaluates gender classification models using various classifiers and n-gram levels (unigrams, bigrams, trigrams). It calculates average F1-scores and displays confusion matrices for each combination of classifier and n-gram level.\n",
    "\n",
    "We checked which of the classifiers is giving us the best possible solution using the unigrams, bigrams, and trigrams we implement earlier"
   ]
  },
  {
   "cell_type": "code",
   "execution_count": 18,
   "metadata": {},
   "outputs": [
    {
     "name": "stdout",
     "output_type": "stream",
     "text": [
      "unigrams\n",
      "\n",
      "\n",
      "Confusion Matrix (LinearSVC):\n",
      "             Predicted Male  Predicted Female\n",
      "True Male                14                23\n",
      "True Female               9               105\n",
      "Average of Average F1-Scores (LinearSVC): 0.6354872234741704\n",
      "\n",
      "\n",
      "bigrams\n",
      "\n",
      "\n",
      "Confusion Matrix (LinearSVC):\n",
      "             Predicted Male  Predicted Female\n",
      "True Male                15                22\n",
      "True Female               9               105\n",
      "Average of Average F1-Scores (LinearSVC): 0.6355264428791064\n",
      "\n",
      "\n",
      "trigrams\n",
      "\n",
      "\n",
      "Confusion Matrix (LinearSVC):\n",
      "             Predicted Male  Predicted Female\n",
      "True Male                15                22\n",
      "True Female               9               105\n",
      "Average of Average F1-Scores (LinearSVC): 0.6296439524481059\n",
      "\n",
      "\n",
      "unigrams\n",
      "\n",
      "\n",
      "Confusion Matrix (Perceptron):\n",
      "             Predicted Male  Predicted Female\n",
      "True Male                12                25\n",
      "True Female               8               106\n",
      "Average of Average F1-Scores (Perceptron): 0.6107383240636323\n",
      "\n",
      "\n",
      "bigrams\n",
      "\n",
      "\n",
      "Confusion Matrix (Perceptron):\n",
      "             Predicted Male  Predicted Female\n",
      "True Male                23                14\n",
      "True Female              28                86\n",
      "Average of Average F1-Scores (Perceptron): 0.6002306252478552\n",
      "\n",
      "\n",
      "trigrams\n",
      "\n",
      "\n",
      "Confusion Matrix (Perceptron):\n",
      "             Predicted Male  Predicted Female\n",
      "True Male                12                25\n",
      "True Female               9               105\n",
      "Average of Average F1-Scores (Perceptron): 0.6220380562416726\n",
      "\n",
      "\n",
      "unigrams\n",
      "\n",
      "\n",
      "Confusion Matrix (SGDClassifier):\n",
      "             Predicted Male  Predicted Female\n",
      "True Male                18                19\n",
      "True Female              12               102\n",
      "Average of Average F1-Scores (SGDClassifier): 0.623247951698966\n",
      "\n",
      "\n",
      "bigrams\n",
      "\n",
      "\n",
      "Confusion Matrix (SGDClassifier):\n",
      "             Predicted Male  Predicted Female\n",
      "True Male                23                14\n",
      "True Female              20                94\n",
      "Average of Average F1-Scores (SGDClassifier): 0.6201415336802776\n",
      "\n",
      "\n",
      "trigrams\n",
      "\n",
      "\n",
      "Confusion Matrix (SGDClassifier):\n",
      "             Predicted Male  Predicted Female\n",
      "True Male                17                20\n",
      "True Female              10               104\n",
      "Average of Average F1-Scores (SGDClassifier): 0.6190260390766223\n",
      "\n",
      "\n",
      "unigrams\n",
      "\n",
      "\n",
      "Confusion Matrix (MultinomialNB):\n",
      "             Predicted Male  Predicted Female\n",
      "True Male                 0                37\n",
      "True Female               0               114\n",
      "Average of Average F1-Scores (MultinomialNB): 0.4336789840448808\n",
      "\n",
      "\n",
      "bigrams\n",
      "\n",
      "\n",
      "Confusion Matrix (MultinomialNB):\n",
      "             Predicted Male  Predicted Female\n",
      "True Male                 0                37\n",
      "True Female               0               114\n",
      "Average of Average F1-Scores (MultinomialNB): 0.4336789840448808\n",
      "\n",
      "\n",
      "trigrams\n",
      "\n",
      "\n",
      "Confusion Matrix (MultinomialNB):\n",
      "             Predicted Male  Predicted Female\n",
      "True Male                 0                37\n",
      "True Female               0               114\n",
      "Average of Average F1-Scores (MultinomialNB): 0.4336789840448808\n",
      "\n",
      "\n",
      "unigrams\n",
      "\n",
      "\n",
      "Confusion Matrix (GaussianNB):\n",
      "             Predicted Male  Predicted Female\n",
      "True Male                18                19\n",
      "True Female              19                95\n",
      "Average of Average F1-Scores (GaussianNB): 0.6230721356838625\n",
      "\n",
      "\n",
      "bigrams\n",
      "\n",
      "\n",
      "Confusion Matrix (GaussianNB):\n",
      "             Predicted Male  Predicted Female\n",
      "True Male                18                19\n",
      "True Female              21                93\n",
      "Average of Average F1-Scores (GaussianNB): 0.6243763280930451\n",
      "\n",
      "\n",
      "trigrams\n",
      "\n",
      "\n",
      "Confusion Matrix (GaussianNB):\n",
      "             Predicted Male  Predicted Female\n",
      "True Male                18                19\n",
      "True Female              19                95\n",
      "Average of Average F1-Scores (GaussianNB): 0.6255307855896035\n",
      "\n",
      "\n",
      "unigrams\n",
      "\n",
      "\n",
      "Confusion Matrix (KNeighborsClassifier):\n",
      "             Predicted Male  Predicted Female\n",
      "True Male                11                26\n",
      "True Female              10               104\n",
      "Average of Average F1-Scores (KNeighborsClassifier): 0.493641903115437\n",
      "\n",
      "\n",
      "bigrams\n",
      "\n",
      "\n",
      "Confusion Matrix (KNeighborsClassifier):\n",
      "             Predicted Male  Predicted Female\n",
      "True Male                10                27\n",
      "True Female               9               105\n",
      "Average of Average F1-Scores (KNeighborsClassifier): 0.49683615637732864\n",
      "\n",
      "\n",
      "trigrams\n",
      "\n",
      "\n",
      "Confusion Matrix (KNeighborsClassifier):\n",
      "             Predicted Male  Predicted Female\n",
      "True Male                10                27\n",
      "True Female               7               107\n",
      "Average of Average F1-Scores (KNeighborsClassifier): 0.5016838139684779\n",
      "\n",
      "\n",
      "unigrams\n",
      "\n",
      "\n",
      "Confusion Matrix (DecisionTreeClassifier):\n",
      "             Predicted Male  Predicted Female\n",
      "True Male                17                20\n",
      "True Female              24                90\n",
      "Average of Average F1-Scores (DecisionTreeClassifier): 0.5964491810251779\n",
      "\n",
      "\n",
      "bigrams\n",
      "\n",
      "\n",
      "Confusion Matrix (DecisionTreeClassifier):\n",
      "             Predicted Male  Predicted Female\n",
      "True Male                17                20\n",
      "True Female              24                90\n",
      "Average of Average F1-Scores (DecisionTreeClassifier): 0.5779631366117759\n",
      "\n",
      "\n",
      "trigrams\n",
      "\n",
      "\n",
      "Confusion Matrix (DecisionTreeClassifier):\n",
      "             Predicted Male  Predicted Female\n",
      "True Male                14                23\n",
      "True Female              23                91\n",
      "Average of Average F1-Scores (DecisionTreeClassifier): 0.5558632772139186\n",
      "\n",
      "\n",
      "unigrams\n",
      "\n",
      "\n",
      "Confusion Matrix (MLPClassifier):\n",
      "             Predicted Male  Predicted Female\n",
      "True Male                15                22\n",
      "True Female               8               106\n",
      "Average of Average F1-Scores (MLPClassifier): 0.6369794710649336\n",
      "\n",
      "\n",
      "bigrams\n",
      "\n",
      "\n",
      "Confusion Matrix (MLPClassifier):\n",
      "             Predicted Male  Predicted Female\n",
      "True Male                14                23\n",
      "True Female               6               108\n",
      "Average of Average F1-Scores (MLPClassifier): 0.626665767303096\n",
      "\n",
      "\n",
      "trigrams\n",
      "\n",
      "\n",
      "Confusion Matrix (MLPClassifier):\n",
      "             Predicted Male  Predicted Female\n",
      "True Male                15                22\n",
      "True Female              11               103\n",
      "Average of Average F1-Scores (MLPClassifier): 0.6252704501706897\n",
      "\n",
      "\n"
     ]
    }
   ],
   "source": [
    "# List of classifiers\n",
    "classifiers = [\n",
    "    LinearSVC(),\n",
    "    Perceptron(), SGDClassifier(),\n",
    "    MultinomialNB(), GaussianNB(),\n",
    "    KNeighborsClassifier(),\n",
    "    DecisionTreeClassifier(),\n",
    "     MLPClassifier()\n",
    "]\n",
    "\n",
    "# Assuming you have loaded your 'df_train' DataFrame\n",
    "for classifier in classifiers:\n",
    "    classifier_name = classifier.__class__.__name__\n",
    "    for i in range(3):\n",
    "        if(i == 0):\n",
    "            average_avg_f1,predicted_labels = calculate_average_f1(X_uni_train, X1_uni_test, Y1_uni_train, Y1_uni_test, classifier,final_hebrew_unigrams)\n",
    "            conf_matrix = confusion_matrix(Y1_uni_test, predicted_labels, labels=[0,1])\n",
    "            print('unigrams')\n",
    "        if(i == 1):\n",
    "            average_avg_f1,predicted_labels = calculate_average_f1(X_bi_train, X_bi_test, Y_bi_train, Y_bi_test, classifier,final_hebrew_bigrams)\n",
    "            conf_matrix = confusion_matrix(Y_bi_test, predicted_labels, labels=[0,1])\n",
    "            print('bigrams')\n",
    "        if(i == 2):\n",
    "            average_avg_f1,predicted_labels = calculate_average_f1(X_tri_train, X1_tri_test, Y1_tri_train, Y1_tri_test, classifier,final_hebrew_trigrams)\n",
    "            conf_matrix = confusion_matrix(Y1_tri_test, predicted_labels, labels=[0, 1])\n",
    "            print('trigrams')\n",
    "        print()\n",
    "        print()\n",
    "        print(f\"Confusion Matrix ({classifier_name}):\")\n",
    "        print(pd.DataFrame(conf_matrix, index=['True Male', 'True Female'], columns=['Predicted Male', 'Predicted Female']))\n",
    "        print(f\"Average of Average F1-Scores ({classifier_name}):\", average_avg_f1)\n",
    "        print()\n",
    "        print()"
   ]
  },
  {
   "cell_type": "markdown",
   "metadata": {},
   "source": [
    "### Pipeline with SGDClassifier\n",
    "\n",
    "<div class=\"alert alert-block alert-success\">\n",
    "<b>Average Average F1 Score:</b>  0.7073643410852712\n",
    "\n",
    "</div>"
   ]
  },
  {
   "cell_type": "code",
   "execution_count": 20,
   "metadata": {},
   "outputs": [
    {
     "data": {
      "text/plain": [
       "GridSearchCV(cv=5, estimator=Pipeline(steps=[('classifier', SGDClassifier())]),\n",
       "             param_grid={'classifier__alpha': [0.0001, 0.001, 0.01],\n",
       "                         'classifier__loss': ['hinge', 'log']},\n",
       "             scoring='f1_macro')"
      ]
     },
     "execution_count": 20,
     "metadata": {},
     "output_type": "execute_result"
    },
    {
     "name": "stdout",
     "output_type": "stream",
     "text": [
      "Average Average F1 Score: 0.7073643410852712\n"
     ]
    }
   ],
   "source": [
    "\n",
    "# Create a pipeline with SGDClassifier\n",
    "pipeline = Pipeline([\n",
    "    ('classifier', SGDClassifier())\n",
    "])\n",
    "\n",
    "# Define your grid of parameters to search\n",
    "parameters = {\n",
    "    # Define your SGDClassifier hyperparameters here\n",
    "    'classifier__loss': ['hinge', 'log'],\n",
    "    'classifier__alpha': [0.0001, 0.001, 0.01]\n",
    "}\n",
    "\n",
    "grid_search = GridSearchCV(pipeline, parameters, cv=5, scoring='f1_macro')\n",
    "grid_search.fit(X_uni_train,Y1_uni_train)\n",
    "\n",
    "predicted_labels = grid_search.predict(X1_uni_test)\n",
    "\n",
    "# Calculate the F1-score for both classes\n",
    "f1_f = f1_score(Y1_uni_test, predicted_labels, pos_label=0)\n",
    "f1_m = f1_score(Y1_uni_test, predicted_labels, pos_label=1)\n",
    "\n",
    "# Calculate the average F1 score over both classes\n",
    "average_f1 = (f1_f + f1_m) / 2\n",
    "\n",
    "# Append the average F1 score to the list\n",
    "avg_f1_scores = [average_f1]\n",
    "\n",
    "# Calculate the average average F1 score over all runs\n",
    "average_avg_f1 = np.mean(avg_f1_scores)\n",
    "ML_SGDClassifier = average_avg_f1\n",
    "\n",
    "print(\"Average Average F1 Score:\", average_avg_f1)\n"
   ]
  },
  {
   "cell_type": "markdown",
   "metadata": {},
   "source": [
    "### Pipeline with LinearSVC\n",
    "\n",
    "<div class=\"alert alert-block alert-success\">\n",
    "<b>Average Average F1 Score:</b>  0.7276233128071157\n",
    "\n",
    "</div>"
   ]
  },
  {
   "cell_type": "code",
   "execution_count": 21,
   "metadata": {},
   "outputs": [
    {
     "data": {
      "text/plain": [
       "GridSearchCV(cv=5, estimator=Pipeline(steps=[('classifier', LinearSVC())]),\n",
       "             param_grid={'classifier__C': [0.1, 1, 10],\n",
       "                         'classifier__loss': ['hinge', 'squared_hinge']},\n",
       "             scoring='f1_macro')"
      ]
     },
     "execution_count": 21,
     "metadata": {},
     "output_type": "execute_result"
    },
    {
     "name": "stdout",
     "output_type": "stream",
     "text": [
      "Average Average F1 Score: 0.7276233128071157\n"
     ]
    }
   ],
   "source": [
    "# Create a pipeline with LinearSVC\n",
    "pipeline = Pipeline([\n",
    "    ('classifier', LinearSVC())\n",
    "])\n",
    "\n",
    "# Define your grid of parameters to search\n",
    "parameters = {\n",
    "    # Define your LinearSVC hyperparameters here\n",
    "    'classifier__C': [0.1, 1, 10],\n",
    "    'classifier__loss': ['hinge', 'squared_hinge']\n",
    "}\n",
    "\n",
    "grid_search = GridSearchCV(pipeline, parameters, cv=5, scoring='f1_macro')\n",
    "grid_search.fit(X_uni_train,Y1_uni_train)\n",
    "\n",
    "predicted_labels = grid_search.predict(X1_uni_test)\n",
    "\n",
    "# Calculate the F1-score for both classes\n",
    "f1_f = f1_score(Y1_uni_test, predicted_labels, pos_label=0)\n",
    "f1_m = f1_score(Y1_uni_test, predicted_labels, pos_label=1)\n",
    "\n",
    "# Calculate the average F1 score over both classes\n",
    "average_f1 = (f1_f + f1_m) / 2\n",
    "\n",
    "# Append the average F1 score to the list\n",
    "avg_f1_scores = [average_f1]\n",
    "\n",
    "# Calculate the average average F1 score over all runs\n",
    "average_avg_f1 = np.mean(avg_f1_scores)\n",
    "ML_LinearSVC = average_avg_f1\n",
    "\n",
    "print(\"Average Average F1 Score:\", average_avg_f1)"
   ]
  },
  {
   "cell_type": "markdown",
   "metadata": {},
   "source": [
    "### Pipeline with Perceptron\n",
    "\n",
    "<div class=\"alert alert-block alert-success\">\n",
    "<b>Average Average F1 Score:</b>  0.668182162612715\n",
    "\n",
    "</div>"
   ]
  },
  {
   "cell_type": "code",
   "execution_count": 22,
   "metadata": {},
   "outputs": [
    {
     "data": {
      "text/plain": [
       "GridSearchCV(cv=5, estimator=Pipeline(steps=[('classifier', Perceptron())]),\n",
       "             param_grid={'classifier__alpha': [0.0001, 0.001, 0.01],\n",
       "                         'classifier__penalty': ['l1', 'l2', 'elasticnet']},\n",
       "             scoring='f1_macro')"
      ]
     },
     "execution_count": 22,
     "metadata": {},
     "output_type": "execute_result"
    },
    {
     "name": "stdout",
     "output_type": "stream",
     "text": [
      "Average Average F1 Score: 0.668182162612715\n"
     ]
    }
   ],
   "source": [
    "pipeline = Pipeline([\n",
    "    ('classifier', Perceptron())\n",
    "])\n",
    "\n",
    "# Define your grid of parameters to search\n",
    "parameters = {\n",
    "    # Define your Perceptron hyperparameters here\n",
    "    'classifier__alpha': [0.0001, 0.001, 0.01],\n",
    "    'classifier__penalty': ['l1', 'l2', 'elasticnet']\n",
    "}\n",
    "\n",
    "grid_search = GridSearchCV(pipeline, parameters, cv=5, scoring='f1_macro')\n",
    "grid_search.fit(X_tri_train, Y1_tri_train)\n",
    "\n",
    "predicted_labels = grid_search.predict(X1_tri_test)\n",
    "\n",
    "# Calculate the F1-score for both classes\n",
    "f1_f = f1_score(Y1_tri_test, predicted_labels, pos_label=0)\n",
    "f1_m = f1_score(Y1_tri_test, predicted_labels, pos_label=1)\n",
    "\n",
    "# Calculate the average F1 score over both classes\n",
    "average_f1 = (f1_f + f1_m) / 2\n",
    "\n",
    "# Append the average F1 score to the list\n",
    "avg_f1_scores = [average_f1]\n",
    "\n",
    "# Calculate the average average F1 score over all runs\n",
    "average_avg_f1 = np.mean(avg_f1_scores)\n",
    "ML_Perceptron = average_avg_f1\n",
    "print(\"Average Average F1 Score:\", average_avg_f1)\n"
   ]
  },
  {
   "cell_type": "markdown",
   "metadata": {},
   "source": [
    "### Pipeline with MLPClassifier\n",
    "\n",
    "<div class=\"alert alert-block alert-success\">\n",
    "<b>Average Average F1 Score:</b>  0.7021291068634787\n",
    "\n",
    "</div>"
   ]
  },
  {
   "cell_type": "code",
   "execution_count": 23,
   "metadata": {},
   "outputs": [
    {
     "data": {
      "text/plain": [
       "GridSearchCV(cv=5, estimator=Pipeline(steps=[('classifier', MLPClassifier())]),\n",
       "             param_grid={'classifier__activation': ['relu', 'tanh'],\n",
       "                         'classifier__alpha': [0.0001, 0.001, 0.01],\n",
       "                         'classifier__hidden_layer_sizes': [(100,), (50, 50),\n",
       "                                                            (50, 25, 10)]},\n",
       "             scoring='f1_macro')"
      ]
     },
     "execution_count": 23,
     "metadata": {},
     "output_type": "execute_result"
    },
    {
     "name": "stdout",
     "output_type": "stream",
     "text": [
      "Average Average F1 Score: 0.7021291068634787\n"
     ]
    }
   ],
   "source": [
    "# Create a pipeline with MLPClassifier\n",
    "pipeline = Pipeline([\n",
    "    ('classifier', MLPClassifier())\n",
    "])\n",
    "\n",
    "# Define your grid of parameters to search\n",
    "parameters = {\n",
    "    # Define your MLPClassifier hyperparameters here\n",
    "    'classifier__hidden_layer_sizes': [(100,), (50, 50), (50, 25, 10)],\n",
    "    'classifier__activation': ['relu', 'tanh'],\n",
    "    'classifier__alpha': [0.0001, 0.001, 0.01]\n",
    "}\n",
    "\n",
    "grid_search = GridSearchCV(pipeline, parameters, cv=5, scoring='f1_macro')\n",
    "grid_search.fit(X_uni_train,Y1_uni_train)\n",
    "\n",
    "predicted_labels = grid_search.predict(X1_uni_test)\n",
    "\n",
    "# Calculate the F1-score for both classes\n",
    "f1_f = f1_score(Y1_uni_test, predicted_labels, pos_label=0)\n",
    "f1_m = f1_score(Y1_uni_test, predicted_labels, pos_label=1)\n",
    "\n",
    "# Calculate the average F1 score over both classes\n",
    "average_f1 = (f1_f + f1_m) / 2\n",
    "\n",
    "# Append the average F1 score to the list\n",
    "avg_f1_scores = [average_f1]\n",
    "\n",
    "# Calculate the average average F1 score over all runs\n",
    "average_avg_f1 = np.mean(avg_f1_scores)\n",
    "ML_MLPClassifier = average_avg_f1\n",
    "\n",
    "print(\"Average Average F1 Score:\", average_avg_f1)"
   ]
  },
  {
   "cell_type": "code",
   "execution_count": 24,
   "metadata": {},
   "outputs": [
    {
     "data": {
      "text/plain": [
       "<BarContainer object of 4 artists>"
      ]
     },
     "execution_count": 24,
     "metadata": {},
     "output_type": "execute_result"
    },
    {
     "data": {
      "text/plain": [
       "(0.0, 1.0)"
      ]
     },
     "execution_count": 24,
     "metadata": {},
     "output_type": "execute_result"
    },
    {
     "data": {
      "text/plain": [
       "Text(0, 0.5, 'Average F1 Score')"
      ]
     },
     "execution_count": 24,
     "metadata": {},
     "output_type": "execute_result"
    },
    {
     "data": {
      "text/plain": [
       "Text(0.5, 1.0, 'Average F1 Scores of Different Classifiers')"
      ]
     },
     "execution_count": 24,
     "metadata": {},
     "output_type": "execute_result"
    },
    {
     "data": {
      "text/plain": [
       "([0, 1, 2, 3],\n",
       " [Text(0, 0, ''), Text(0, 0, ''), Text(0, 0, ''), Text(0, 0, '')])"
      ]
     },
     "execution_count": 24,
     "metadata": {},
     "output_type": "execute_result"
    },
    {
     "data": {
      "image/png": "[encoded data removed]",
      "text/plain": [
       "<Figure size 640x480 with 1 Axes>"
      ]
     },
     "metadata": {},
     "output_type": "display_data"
    }
   ],
   "source": [
    "# List of classifiers\n",
    "classifiers = ['ML_MLPClassifier', 'ML_Perceptron', 'ML_LinearSVC', 'ML_SGDClassifier']\n",
    "\n",
    "# Combine all F1 scores into a list\n",
    "all_f1_scores = [ML_MLPClassifier, ML_Perceptron, ML_LinearSVC, ML_SGDClassifier]\n",
    "\n",
    "plt.bar(classifiers, all_f1_scores)\n",
    "plt.ylim(0, 1)\n",
    "plt.ylabel('Average F1 Score')\n",
    "plt.title('Average F1 Scores of Different Classifiers')\n",
    "plt.xticks(rotation=45)\n",
    "plt.tight_layout()\n",
    "plt.show()"
   ]
  },
  {
   "cell_type": "markdown",
   "metadata": {},
   "source": [
    "### Chosing The winning model :\n",
    "Using the best model we got on the full CSV (Final step)"
   ]
  },
  {
   "cell_type": "code",
   "execution_count": 25,
   "metadata": {},
   "outputs": [
    {
     "data": {
      "text/plain": [
       "['linear_svc_model.pkl']"
      ]
     },
     "execution_count": 25,
     "metadata": {},
     "output_type": "execute_result"
    }
   ],
   "source": [
    "import joblib\n",
    "# Save the trained model to a file\n",
    "joblib.dump(grid_search, 'linear_svc_model.pkl')"
   ]
  },
  {
   "cell_type": "code",
   "execution_count": null,
   "metadata": {},
   "outputs": [],
   "source": []
  },
  {
   "cell_type": "code",
   "execution_count": 26,
   "metadata": {},
   "outputs": [],
   "source": [
    "def edited_data(df_test):\n",
    "    test_text_data = df_test['story']\n",
    "    X_tfidf = tfidf_vectorizer.fit_transform(test_text_data)\n",
    "    return X_tfidf"
   ]
  },
  {
   "cell_type": "code",
   "execution_count": 27,
   "metadata": {},
   "outputs": [
    {
     "data": {
      "text/plain": [
       "GridSearchCV(cv=5, estimator=Pipeline(steps=[('classifier', MLPClassifier())]),\n",
       "             param_grid={'classifier__activation': ['relu', 'tanh'],\n",
       "                         'classifier__alpha': [0.0001, 0.001, 0.01],\n",
       "                         'classifier__hidden_layer_sizes': [(100,), (50, 50),\n",
       "                                                            (50, 25, 10)]},\n",
       "             scoring='f1_macro')"
      ]
     },
     "execution_count": 27,
     "metadata": {},
     "output_type": "execute_result"
    }
   ],
   "source": [
    "# Load the annotated_corpus_for_train.csv file\n",
    "train_data = pd.read_csv('annotated_corpus_for_train.csv')\n",
    "\n",
    "# TF-IDF vectorization for training data using the tokenized text data from final_stories\n",
    "vectorizer = TfidfVectorizer(max_features=1000)\n",
    "train_text_tfidf = vectorizer.fit_transform(final_hebrew_unigrams)\n",
    "\n",
    "# Load the saved model\n",
    "loaded_model = joblib.load('linear_svc_model.pkl')\n",
    "\n",
    "# Train the best model on the full training data\n",
    "loaded_model.fit(train_text_tfidf, train_data['gender'])\n",
    "\n",
    "\n",
    "# Make predictions using the loaded model\n",
    "test_data = edited_data(df_test)  # Your new data here\n",
    "predicted = loaded_model.predict(test_data)\n",
    "\n",
    "\n",
    "# Create a DataFrame with the results\n",
    "df_predicted = pd.DataFrame({\n",
    "    'test_example_id': df_test['test_example_id'],\n",
    "    'predicted_category': predicted\n",
    "})\n"
   ]
  },
  {
   "cell_type": "markdown",
   "metadata": {},
   "source": [
    "### Save output to csv (optional)\n",
    "After you're done save your output to the 'classification_results.csv' csv file.<br/>\n",
    "We assume that the dataframe with your results contain the following columns:\n",
    "* column 1 (left column): 'test_example_id'  - the same id associated to each of the test stories to be predicted.\n",
    "* column 2 (right column): 'predicted_category' - the predicted gender value for each of the associated story. \n",
    "\n",
    "Assuming your predicted values are in the `df_predicted` dataframe, you should save you're results as following:"
   ]
  },
  {
   "cell_type": "code",
   "execution_count": 28,
   "metadata": {},
   "outputs": [],
   "source": [
    "df_predicted.to_csv('classification_results.csv',index=False)"
   ]
  },
  {
   "cell_type": "code",
   "execution_count": null,
   "metadata": {},
   "outputs": [],
   "source": []
  }
 ],
 "metadata": {
  "celltoolbar": "Create Assignment",
  "kernelspec": {
   "display_name": "Python 3 (ipykernel)",
   "language": "python",
   "name": "python3"
  },
  "language_info": {
   "codemirror_mode": {
    "name": "ipython",
    "version": 3
   },
   "file_extension": ".py",
   "mimetype": "text/x-python",
   "name": "python",
   "nbconvert_exporter": "python",
   "pygments_lexer": "ipython3",
   "version": "3.9.13"
  }
 },
 "nbformat": 4,
 "nbformat_minor": 4
}
